{
 "cells": [
  {
   "cell_type": "markdown",
   "id": "3c65fa63-26a4-4db0-a4ba-1acb1883a39d",
   "metadata": {},
   "source": [
    "#  9 Feb Assignment "
   ]
  },
  {
   "cell_type": "markdown",
   "id": "a117fa49-5aca-4a9b-a25d-bf1f8c4350a4",
   "metadata": {},
   "source": [
    "#  Answer -01 "
   ]
  },
  {
   "cell_type": "code",
   "execution_count": 4,
   "id": "93a58aae-2b0b-4fc1-8b66-da0c8bdd714d",
   "metadata": {},
   "outputs": [
    {
     "name": "stdout",
     "output_type": "stream",
     "text": [
      "honda\n",
      "100\n",
      "50\n"
     ]
    }
   ],
   "source": [
    "class Vehicle:\n",
    "    def __init__(self, name_of_vehicle, max_speed, average_of_vehicle):\n",
    "        self.name_of_vehicle=name_of_vehicle\n",
    "        self.max_speed=max_speed\n",
    "        self.average_of_vehicle=average_of_vehicle\n",
    "    def vehicle(self):\n",
    "        return \"hey this pandey\"\n",
    "var=Vehicle(\"honda\",100,50)\n",
    "print(var.name_of_vehicle)\n",
    "print(var.max_speed)\n",
    "print(var.average_of_vehicle)\n",
    "\n"
   ]
  },
  {
   "cell_type": "markdown",
   "id": "cfb9d916-fa83-42e3-ba43-da7cc11e8efa",
   "metadata": {},
   "source": [
    "#  Answer -02 "
   ]
  },
  {
   "cell_type": "code",
   "execution_count": 37,
   "id": "4c8ccd47-7aec-4023-82fe-f6c8d65578cd",
   "metadata": {},
   "outputs": [
    {
     "name": "stdout",
     "output_type": "stream",
     "text": [
      "Bullet\n",
      "200\n",
      "90\n"
     ]
    }
   ],
   "source": [
    "class Vehicle:\n",
    "    def __init__(self, name_of_vehicle, max_speed, average_of_vehicle):\n",
    "        self.name_of_vehicle=name_of_vehicle\n",
    "        self. max_speed= max_speed\n",
    "        self.average_of_vehicle=average_of_vehicle\n",
    "    \n",
    "    \n",
    "class Bus(Vehicle):\n",
    "    def __init__(self):\n",
    "        Vehicle.__init__(self, name_of_vehicle=\"Bullet\", max_speed=200, average_of_vehicle=90)\n",
    "    \n",
    "var1=Bus()\n",
    "print(var1.name_of_vehicle)\n",
    "print(var1.max_speed)\n",
    "print(var1.average_of_vehicle)\n",
    "\n",
    "        \n",
    "        "
   ]
  },
  {
   "cell_type": "code",
   "execution_count": 40,
   "id": "77b2b0a5-fe44-4ca3-94a4-ec7450174fa6",
   "metadata": {},
   "outputs": [
    {
     "name": "stdout",
     "output_type": "stream",
     "text": [
      " This capacity of Bus is 50 passenger \n"
     ]
    }
   ],
   "source": [
    "class Vehicle:\n",
    "    def __init__ (self,name_of_vehicle, max_speed, average_of_vehicle):\n",
    "        self.name_of_vehicle=name_of_vehicle\n",
    "        self.max_speed=max_speed\n",
    "        self.average_of_vehicle=average_of_vehicle\n",
    "    \n",
    "    def seating_capacity(self, capacity):\n",
    "        return f\" This capacity of {self.name_of_vehicle} is {capacity} passenger \"\n",
    "class Bus(Vehicle):\n",
    "    def seating_capacity(self, capacity=50):\n",
    "        return super().seating_capacity(capacity=50)\n",
    "    \n",
    "var2=Bus(\"Bus\",200,30)\n",
    "\n",
    "print(var2.seating_capacity())\n",
    "    \n",
    "\n",
    "\n",
    "\n"
   ]
  },
  {
   "cell_type": "markdown",
   "id": "ff9585a7-4869-48e7-9d1e-46fd240af3dc",
   "metadata": {},
   "source": [
    "#  Answer -03 "
   ]
  },
  {
   "cell_type": "code",
   "execution_count": 54,
   "id": "607c8f9d-f983-4e23-ab7a-e69de68c5602",
   "metadata": {},
   "outputs": [
    {
     "name": "stdout",
     "output_type": "stream",
     "text": [
      "father is singing well\n",
      "mom is dancing well\n",
      "son is conding very good\n"
     ]
    }
   ],
   "source": [
    "class Father:\n",
    "    def singing(self):\n",
    "        print(\"father is singing well\")\n",
    "class Mom:\n",
    "    def dancing(self):\n",
    "        print(\"mom is dancing well\")\n",
    "class Son(father,mom):\n",
    "    def code(self):\n",
    "        print(\"son is conding very good\")\n",
    "\n",
    "final=Son()\n",
    "final.singing()\n",
    "final.dancing()\n",
    "final.code()\n",
    "        \n",
    "    "
   ]
  },
  {
   "cell_type": "markdown",
   "id": "8d2471c6-eb1b-4258-905c-53f253a77c92",
   "metadata": {},
   "source": [
    "#  Answer -04"
   ]
  },
  {
   "cell_type": "code",
   "execution_count": null,
   "id": "51bf5ee9-9933-48c9-b384-7a7ba90e8fae",
   "metadata": {},
   "outputs": [],
   "source": [
    "Getter: A method that allows you to access an attribute in a given class. \n",
    "Setter: A method that allows you to set or mutate the value of an attribute in a class."
   ]
  },
  {
   "cell_type": "code",
   "execution_count": 66,
   "id": "3890cb41-4210-4f15-b0e7-8c47841c9f3e",
   "metadata": {},
   "outputs": [
    {
     "name": "stdout",
     "output_type": "stream",
     "text": [
      "0\n",
      "2019\n"
     ]
    }
   ],
   "source": [
    "#  Using Getter aad Setter method\n",
    "class year_graduated:\n",
    "    def __init__(self, year=0):\n",
    "        self._year = year\n",
    "    def get_year(self):\n",
    "        return self._year\n",
    "\n",
    "\n",
    "    def set_year(self, a):\n",
    "        self._year = a\n",
    "\n",
    "grad_obj = year_graduated()\n",
    "\n",
    "print(grad_obj.get_year())\n",
    "\n",
    "# After using setter\n",
    "grad_obj.set_year(2019)\n",
    "print(grad_obj._year)"
   ]
  },
  {
   "cell_type": "markdown",
   "id": "17bbf49d-a51b-4ba9-9a09-7aefb67e3be9",
   "metadata": {},
   "source": [
    "#  Answer -05"
   ]
  },
  {
   "cell_type": "code",
   "execution_count": null,
   "id": "5cadfce2-2295-42c7-8fbb-3de8efecb982",
   "metadata": {},
   "outputs": [],
   "source": [
    "Method overriding is a feature of object-oriented programming languages where the subclass or child class can provide the program \n",
    "with specific characteristics or a specific implementation process of data provided that are already defined in the parent class or superclass."
   ]
  },
  {
   "cell_type": "code",
   "execution_count": 56,
   "id": "726378b7-5e60-47a9-8f5d-0dd94c1d03e5",
   "metadata": {},
   "outputs": [
    {
     "name": "stdout",
     "output_type": "stream",
     "text": [
      "The method Walk here is overridden in the code\n",
      "Hello, I am the child class\n",
      "Hello, I am the parent class\n"
     ]
    }
   ],
   "source": [
    "#   method overriding in python\n",
    "class Animal:\n",
    "    def Walk(self):\n",
    "        print('Hello, I am the parent class')\n",
    "\n",
    "class Dog(Animal):\n",
    "    def Walk(self):\n",
    "        print('Hello, I am the child class')\n",
    "        \n",
    "print('The method Walk here is overridden in the code')\n",
    "\n",
    "\n",
    "\n",
    "r = Dog()\n",
    "r.Walk()\n",
    "\n",
    "\n",
    "\n",
    "r = Animal()\n",
    "r.Walk()"
   ]
  },
  {
   "cell_type": "code",
   "execution_count": 65,
   "id": "79b1897b-c97c-4feb-9145-b6ab76a5a138",
   "metadata": {},
   "outputs": [
    {
     "name": "stdout",
     "output_type": "stream",
     "text": [
      "0\n",
      "2019\n"
     ]
    }
   ],
   "source": []
  },
  {
   "cell_type": "code",
   "execution_count": null,
   "id": "979f9c8a-d96e-4eb2-ad24-6e6d98f18106",
   "metadata": {},
   "outputs": [],
   "source": []
  }
 ],
 "metadata": {
  "kernelspec": {
   "display_name": "Python 3 (ipykernel)",
   "language": "python",
   "name": "python3"
  },
  "language_info": {
   "codemirror_mode": {
    "name": "ipython",
    "version": 3
   },
   "file_extension": ".py",
   "mimetype": "text/x-python",
   "name": "python",
   "nbconvert_exporter": "python",
   "pygments_lexer": "ipython3",
   "version": "3.10.8"
  }
 },
 "nbformat": 4,
 "nbformat_minor": 5
}
